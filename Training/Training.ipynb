{
 "cells": [
  {
   "cell_type": "code",
   "execution_count": 1,
   "metadata": {
    "colab": {
     "base_uri": "https://localhost:8080/"
    },
    "executionInfo": {
     "elapsed": 732,
     "status": "ok",
     "timestamp": 1744346489404,
     "user": {
      "displayName": "Jayesh Zambre",
      "userId": "10061219621634603353"
     },
     "user_tz": 420
    },
    "id": "5Q3Uf0KtGnCj",
    "outputId": "cdfa7169-8f87-465a-91f7-64381416c367"
   },
   "outputs": [
    {
     "name": "stdout",
     "output_type": "stream",
     "text": [
      "Drive already mounted at /content/drive; to attempt to forcibly remount, call drive.mount(\"/content/drive\", force_remount=True).\n"
     ]
    }
   ],
   "source": [
    "# from google.colab import drive\n",
    "# drive.mount('/content/drive')  # Add My Drive/<>\n",
    "\n",
    "# import os\n",
    "# os.chdir('drive/My Drive/SCU/Fourth Quarter/NLP/Notebooks')"
   ]
  },
  {
   "cell_type": "markdown",
   "metadata": {},
   "source": [
    "## Data Preprocessing"
   ]
  },
  {
   "cell_type": "code",
   "execution_count": 1,
   "metadata": {
    "colab": {
     "base_uri": "https://localhost:8080/"
    },
    "executionInfo": {
     "elapsed": 9833,
     "status": "ok",
     "timestamp": 1744346499236,
     "user": {
      "displayName": "Jayesh Zambre",
      "userId": "10061219621634603353"
     },
     "user_tz": 420
    },
    "id": "mKGP74FbHaAS",
    "outputId": "74dce98c-5786-4ccb-8166-2ade7f676d8f"
   },
   "outputs": [
    {
     "name": "stdout",
     "output_type": "stream",
     "text": [
      "✅ Data processing complete. Final shape: (7186, 2)\n"
     ]
    }
   ],
   "source": [
    "import pandas as pd\n",
    "import re\n",
    "import string\n",
    "\n",
    "# === 1. Load the dataset ===\n",
    "file_path = \"datasets/mle_screening_dataset.csv\"\n",
    "df = pd.read_csv(file_path)\n",
    "\n",
    "# === 2. Drop duplicates and nulls ===\n",
    "df.drop_duplicates(inplace=True)\n",
    "df.dropna(subset=[\"question\", \"answer\"], inplace=True)\n",
    "\n",
    "# # === 3. Clean the text ===\n",
    "def clean_text(text):\n",
    "    text = str(text)\n",
    "    text = text.strip() \n",
    "    text = text.lower()  \n",
    "\n",
    "    # Remove HTML tags or brackets\n",
    "    text = re.sub(r\"<.*?>\", \"\", text)\n",
    "    text = re.sub(r\"\\[.*?\\]\", \"\", text)\n",
    "\n",
    "    # Remove URLs\n",
    "    text = re.sub(r\"http\\S+|www\\S+\", \"\", text)\n",
    "\n",
    "    # Remove punctuation\n",
    "    text = text.translate(str.maketrans(\"\", \"\", string.punctuation))\n",
    "\n",
    "    # Normalize whitespace\n",
    "    text = re.sub(r\"\\s+\", \" \", text)\n",
    "\n",
    "    return text.strip()\n",
    "\n",
    "df[\"question\"] = df[\"question\"].apply(clean_text)\n",
    "df[\"answer\"] = df[\"answer\"].apply(clean_text)\n",
    "\n",
    "# === 4. Optional: Combine similar Qs (if multiple answers for one Q) ===\n",
    "grouped_df = df.groupby(\"question\")[\"answer\"].apply(lambda x: \" \".join(set(x))).reset_index()\n",
    "\n",
    "# === 5. Filter out too-short or too-long entries ===\n",
    "grouped_df = grouped_df[grouped_df[\"answer\"].str.split().str.len().between(10, 150)]\n",
    "\n",
    "# === 6. Save processed data ===\n",
    "grouped_df.to_csv(\"processed_medical_qa.csv\", index=False)\n",
    "\n",
    "print(\"✅ Data processing complete. Final shape:\", grouped_df.shape)\n"
   ]
  },
  {
   "cell_type": "markdown",
   "metadata": {},
   "source": [
    "## Model Training"
   ]
  },
  {
   "cell_type": "code",
   "execution_count": 3,
   "metadata": {
    "executionInfo": {
     "elapsed": 2202,
     "status": "ok",
     "timestamp": 1744347859549,
     "user": {
      "displayName": "Jayesh Zambre",
      "userId": "10061219621634603353"
     },
     "user_tz": 420
    },
    "id": "63l6_pYjHiZN"
   },
   "outputs": [
    {
     "name": "stderr",
     "output_type": "stream",
     "text": [
      "/Users/jayeshzambre/anaconda3/envs/medrag/lib/python3.10/site-packages/huggingface_hub/file_download.py:896: FutureWarning: `resume_download` is deprecated and will be removed in version 1.0.0. Downloads always resume when possible. If you want to force a new download, use `force_download=True`.\n",
      "  warnings.warn(\n",
      "You are using the default legacy behaviour of the <class 'transformers.models.t5.tokenization_t5.T5Tokenizer'>. This is expected, and simply means that the `legacy` (previous) behavior will be used so nothing changes for you. If you want to use the new behaviour, set `legacy=False`. This should only be set if you understand what it means, and thouroughly read the reason why this was added as explained in https://github.com/huggingface/transformers/pull/24565\n",
      "Special tokens have been added in the vocabulary, make sure the associated word embeddings are fine-tuned or trained.\n"
     ]
    }
   ],
   "source": [
    "import os\n",
    "import pandas as pd\n",
    "from sklearn.model_selection import train_test_split\n",
    "from datasets import Dataset, DatasetDict\n",
    "from transformers import T5Tokenizer, T5ForConditionalGeneration, TrainingArguments, Trainer, DataCollatorForSeq2Seq\n",
    "import evaluate\n",
    "import numpy as np\n",
    "import torch\n",
    "\n",
    "\n",
    "# STEP 1: Load dataset\n",
    "\n",
    "df = grouped_df\n",
    "train_df, temp_df = train_test_split(df, test_size=0.2, random_state=42)\n",
    "val_df, test_df = train_test_split(temp_df, test_size=0.5, random_state=42)\n",
    "\n",
    "train_df_sample = train_df.sample(n=500, random_state=42)\n",
    "val_df_sample = val_df.sample(n=100, random_state=42)\n",
    "test_df_sample = test_df.sample(n=100, random_state=42)\n",
    "\n",
    "\n",
    "dataset = DatasetDict({\n",
    "    'train': Dataset.from_pandas(train_df_sample.reset_index(drop=True)),\n",
    "    'validation': Dataset.from_pandas(val_df_sample.reset_index(drop=True)),\n",
    "    'test': Dataset.from_pandas(test_df_sample.reset_index(drop=True)),\n",
    "})\n",
    "\n",
    "\n",
    "\n",
    "# STEP 2: Load Tokenizer and Model\n",
    "\n",
    "model_name = \"google/flan-t5-small\"\n",
    "tokenizer = T5Tokenizer.from_pretrained(model_name)\n",
    "model = T5ForConditionalGeneration.from_pretrained(model_name)\n",
    "\n",
    "\n",
    "# STEP 3: Preprocessing Function\n",
    "\n",
    "MAX_INPUT_LENGTH = 128\n",
    "MAX_TARGET_LENGTH = 128\n",
    "\n"
   ]
  },
  {
   "cell_type": "code",
   "execution_count": 4,
   "metadata": {
    "colab": {
     "base_uri": "https://localhost:8080/",
     "height": 169,
     "referenced_widgets": [
      "f408e8c431e94295b1404925e765f4e3",
      "84618e743d7a4305881568143861f11e",
      "5e1f5d0cf6064033bc42276b93b087d9",
      "cdd28cb8c6014dfcab45e1adfbcd019f",
      "709f7be3d05447678db7242d08569518",
      "98648f6c47a140f5aa53e458d1e6b8b9",
      "d4a6285e84f34e1cbd2631952906fb3a",
      "ac973818677b422dbb3a3ec909dc51c2",
      "b262c31ecd17454eb763ed3f3bdecb5e",
      "a0170661b1d5436087c5816523a868b4",
      "4edb1e9c0f824f3d84bc2110501c46e2",
      "b91b563cdccc43da93aca3e5c1f0fd75",
      "84ecd9bfb7ff4bfe8c5dc37dae89a9bb",
      "56ee5c552a4a4c079d7c9c37634ae8db",
      "280dd4663b6041dbb1a7f7a1f834b5ba",
      "cfdb8bd922724ba5a23eb5d96386c333",
      "59969815ab6648888355c336647a2c97",
      "f0e67155b79e49dca04b57aaf27d2764",
      "74bc950fde744c129d08f8c163d40185",
      "a44dcec6ace74327853f57ffd9abc8a7",
      "406b130ea7224267a389d558a7ebcba7",
      "8939170b9ee247fc89b4132d3b0ea2ba",
      "beb1896db40c4b4d9d3b3b531e8f1b84",
      "4a8844ff87c144cd8a73d06e2a19c533",
      "7e770c6185a64b30b3c945950ad9af60",
      "ee79614ab6564e8e9a8da14486cfa74c",
      "8fd14bcdacc74cd9ba6f5d8e1d9fbb33",
      "a9e651ea61b64c9bb1c7283822f4b4e8",
      "cef229a9f0164d0cad23c1fe1e5905ae",
      "a04759c3aad14bd2b306099df30e90de",
      "c95b7f066c2f47fd83b44b8964d0d8b6",
      "50e1910d5a97455a83a0ad962d56b705",
      "96f4b7dcd0d64945baafbdf379a5d558"
     ]
    },
    "executionInfo": {
     "elapsed": 1832,
     "status": "ok",
     "timestamp": 1744347862861,
     "user": {
      "displayName": "Jayesh Zambre",
      "userId": "10061219621634603353"
     },
     "user_tz": 420
    },
    "id": "IpLcz6z9H8vY",
    "outputId": "7163e599-3356-4b3c-a1cb-0678b0354ea3"
   },
   "outputs": [
    {
     "name": "stderr",
     "output_type": "stream",
     "text": [
      "Map:   0%|          | 0/500 [00:00<?, ? examples/s]/Users/jayeshzambre/anaconda3/envs/medrag/lib/python3.10/site-packages/transformers/tokenization_utils_base.py:3860: UserWarning: `as_target_tokenizer` is deprecated and will be removed in v5 of Transformers. You can tokenize your labels by using the argument `text_target` of the regular `__call__` method (either in the same call as your input texts if you use the same keyword arguments, or in a separate call.\n",
      "  warnings.warn(\n",
      "Map: 100%|██████████| 500/500 [00:00<00:00, 766.06 examples/s]\n",
      "Map: 100%|██████████| 100/100 [00:00<00:00, 1418.02 examples/s]\n",
      "Map: 100%|██████████| 100/100 [00:00<00:00, 1667.75 examples/s]\n"
     ]
    }
   ],
   "source": [
    "def preprocess(batch):\n",
    "    input_texts = [\"question: \" + q for q in batch[\"question\"]]\n",
    "    target_texts = batch[\"answer\"]\n",
    "\n",
    "    model_inputs = tokenizer(\n",
    "        input_texts,\n",
    "        max_length=MAX_INPUT_LENGTH,\n",
    "        padding=\"max_length\",\n",
    "        truncation=True\n",
    "    )\n",
    "\n",
    "    with tokenizer.as_target_tokenizer():\n",
    "        labels = tokenizer(\n",
    "            target_texts,\n",
    "            max_length=MAX_TARGET_LENGTH,\n",
    "            padding=\"max_length\",\n",
    "            truncation=True\n",
    "        )\n",
    "\n",
    "    model_inputs[\"labels\"] = labels[\"input_ids\"]\n",
    "    return model_inputs\n",
    "\n",
    "# Tokenize datasets\n",
    "tokenized_datasets = dataset.map(\n",
    "    preprocess,\n",
    "    batched=True,\n",
    "    remove_columns=[\"question\", \"answer\"]  # remove index if present\n",
    ")\n"
   ]
  },
  {
   "cell_type": "code",
   "execution_count": 19,
   "metadata": {
    "colab": {
     "base_uri": "https://localhost:8080/",
     "height": 265
    },
    "executionInfo": {
     "elapsed": 2361635,
     "status": "ok",
     "timestamp": 1744350227375,
     "user": {
      "displayName": "Jayesh Zambre",
      "userId": "10061219621634603353"
     },
     "user_tz": 420
    },
    "id": "c_nLxa_QKBB2",
    "outputId": "6747c768-15c4-45f9-e019-74b8aeffb24f"
   },
   "outputs": [
    {
     "name": "stderr",
     "output_type": "stream",
     "text": [
      "/usr/local/lib/python3.11/dist-packages/transformers/training_args.py:1611: FutureWarning: `evaluation_strategy` is deprecated and will be removed in version 4.46 of 🤗 Transformers. Use `eval_strategy` instead\n",
      "  warnings.warn(\n",
      "<ipython-input-19-372d321f093e>:81: FutureWarning: `tokenizer` is deprecated and will be removed in version 5.0.0 for `Trainer.__init__`. Use `processing_class` instead.\n",
      "  trainer = Trainer(\n"
     ]
    },
    {
     "data": {
      "text/html": [
       "\n",
       "    <div>\n",
       "      \n",
       "      <progress value='250' max='250' style='width:300px; height:20px; vertical-align: middle;'></progress>\n",
       "      [250/250 39:13, Epoch 2/2]\n",
       "    </div>\n",
       "    <table border=\"1\" class=\"dataframe\">\n",
       "  <thead>\n",
       " <tr style=\"text-align: left;\">\n",
       "      <th>Epoch</th>\n",
       "      <th>Training Loss</th>\n",
       "      <th>Validation Loss</th>\n",
       "    </tr>\n",
       "  </thead>\n",
       "  <tbody>\n",
       "    <tr>\n",
       "      <td>1</td>\n",
       "      <td>2.964700</td>\n",
       "      <td>2.111054</td>\n",
       "    </tr>\n",
       "    <tr>\n",
       "      <td>2</td>\n",
       "      <td>2.061700</td>\n",
       "      <td>1.953027</td>\n",
       "    </tr>\n",
       "  </tbody>\n",
       "</table><p>"
      ],
      "text/plain": [
       "<IPython.core.display.HTML object>"
      ]
     },
     "metadata": {},
     "output_type": "display_data"
    },
    {
     "data": {
      "text/plain": [
       "TrainOutput(global_step=250, training_loss=3.134397277832031, metrics={'train_runtime': 2360.2467, 'train_samples_per_second': 0.424, 'train_steps_per_second': 0.106, 'total_flos': 46472626176000.0, 'train_loss': 3.134397277832031, 'epoch': 2.0})"
      ]
     },
     "execution_count": 19,
     "metadata": {},
     "output_type": "execute_result"
    }
   ],
   "source": [
    "\n",
    "# STEP 4: Training Arguments\n",
    "\n",
    "training_args = TrainingArguments(\n",
    "    output_dir=\"./flan-t5-medical-qa\",\n",
    "    evaluation_strategy=\"epoch\",\n",
    "    learning_rate=2e-4,\n",
    "    per_device_train_batch_size=4,     \n",
    "    per_device_eval_batch_size=2,     \n",
    "    num_train_epochs=2,\n",
    "    weight_decay=0.01,\n",
    "    save_strategy=\"epoch\",\n",
    "    load_best_model_at_end=False,\n",
    "    metric_for_best_model=None,\n",
    "    logging_dir=\"./logs\",\n",
    "    logging_steps=50,\n",
    "    report_to=\"none\"\n",
    ")\n",
    "\n",
    "\n",
    "\n",
    "# STEP 5: Evaluation Metrics\n",
    "\n",
    "rouge = evaluate.load(\"rouge\")\n",
    "bleu = evaluate.load(\"bleu\")\n",
    "exact_match = evaluate.load(\"exact_match\")\n",
    "\n",
    "def compute_metrics(eval_preds):\n",
    "    predictions, labels = eval_preds\n",
    "    decoded_preds = tokenizer.batch_decode(predictions, skip_special_tokens=True)\n",
    "    decoded_labels = tokenizer.batch_decode(labels, skip_special_tokens=True)\n",
    "\n",
    "    decoded_preds = [pred.strip() for pred in decoded_preds]\n",
    "    decoded_labels = [label.strip() for label in decoded_labels]\n",
    "\n",
    "    # Exact Match\n",
    "    em_score = exact_match.compute(predictions=decoded_preds, references=decoded_labels)[\"exact_match\"]\n",
    "\n",
    "    # ROUGE\n",
    "    rouge_result = rouge.compute(predictions=decoded_preds, references=decoded_labels)\n",
    "\n",
    "    # BLEU\n",
    "    bleu_result = bleu.compute(predictions=decoded_preds, references=[[label] for label in decoded_labels])\n",
    "\n",
    "    return {\n",
    "        \"exact_match\": em_score,\n",
    "        \"rougeL\": rouge_result[\"rougeL\"],\n",
    "        \"bleu\": bleu_result[\"bleu\"]\n",
    "    }\n",
    "\n",
    "\n",
    "# STEP 6: Train Model\n",
    "\n",
    "data_collator = DataCollatorForSeq2Seq(tokenizer, model=model)\n",
    "\n",
    "trainer = Trainer(\n",
    "    model=model,\n",
    "    args=training_args,\n",
    "    train_dataset=tokenized_datasets[\"train\"],\n",
    "    eval_dataset=tokenized_datasets[\"validation\"],\n",
    "    tokenizer=tokenizer,\n",
    "    data_collator=data_collator,\n",
    "    compute_metrics=compute_metrics  \n",
    "\n",
    "\n",
    "trainer.train()\n"
   ]
  },
  {
   "cell_type": "markdown",
   "metadata": {},
   "source": [
    "## Model Evaluation"
   ]
  },
  {
   "cell_type": "code",
   "execution_count": 20,
   "metadata": {
    "colab": {
     "base_uri": "https://localhost:8080/",
     "height": 73
    },
    "executionInfo": {
     "elapsed": 42283,
     "status": "ok",
     "timestamp": 1744350290765,
     "user": {
      "displayName": "Jayesh Zambre",
      "userId": "10061219621634603353"
     },
     "user_tz": 420
    },
    "id": "rbD_GFrCKL_t",
    "outputId": "b5a7d829-4dfc-41f0-e61b-91815286710b"
   },
   "outputs": [
    {
     "data": {
      "text/html": [
       "\n",
       "    <div>\n",
       "      \n",
       "      <progress value='50' max='50' style='width:300px; height:20px; vertical-align: middle;'></progress>\n",
       "      [50/50 00:40]\n",
       "    </div>\n",
       "    "
      ],
      "text/plain": [
       "<IPython.core.display.HTML object>"
      ]
     },
     "metadata": {},
     "output_type": "display_data"
    },
    {
     "name": "stdout",
     "output_type": "stream",
     "text": [
      "\n",
      "📊 Final Test Results: {'eval_loss': 1.8731110095977783, 'eval_runtime': 41.6072, 'eval_samples_per_second': 2.403, 'eval_steps_per_second': 1.202, 'epoch': 2.0}\n"
     ]
    }
   ],
   "source": [
    "\n",
    "test_results = trainer.evaluate(tokenized_datasets[\"test\"])\n",
    "print(\"\\n📊 Final Test Results:\", test_results)"
   ]
  },
  {
   "cell_type": "code",
   "execution_count": 21,
   "metadata": {
    "colab": {
     "base_uri": "https://localhost:8080/"
    },
    "executionInfo": {
     "elapsed": 12836,
     "status": "ok",
     "timestamp": 1744350319724,
     "user": {
      "displayName": "Jayesh Zambre",
      "userId": "10061219621634603353"
     },
     "user_tz": 420
    },
    "id": "pANN80TTOHnO",
    "outputId": "d03d6729-e2f9-402c-d2ee-ff1b59b9e9d7"
   },
   "outputs": [
    {
     "name": "stdout",
     "output_type": "stream",
     "text": [
      "User Question: is retroperitoneal fibrosis inherited\n",
      "Expected Answer: most cases of retroperitoneal fibrosis are sporadic which means that they occur in people with no apparent history of the disorder in their family in rare cases the condition has been reported to occur in a few members of the same family but the inheritance pattern is unknown\n",
      "Model Answer: retroperitoneal fibrosis is inherited in the family a inherited condition is inherited in the family a inherited condition is inherited in the family a inherited condition is inherited in the family a inherited condition is inherited in the family a inherited condition is inherited in the family a inherited condition is inherited in the family a inherited condition is inherited in the family a inherited condition is inherited in the family a inherited condition is inherited in the family a inherited condition is inherited in the family a inherited\n",
      "User Question: what are the treatments for fragile xassociated tremorataxia syndrome\n",
      "Expected Answer: these resources address the diagnosis or management of fxtas fragile x research foundation of canada fxtas gene review gene review fmr1related disorders genetic testing registry fragile x tremorataxia syndrome merck manual consumer version these resources from medlineplus offer information about the diagnosis and management of various health conditions diagnostic tests drug therapy surgery and rehabilitation genetic counseling palliative care\n",
      "Model Answer: these resources address the diagnosis or management of fragile xassociated tremorataxia syndrome nasc nasc nasc nasc nasc nasc nasc nasc nasc nasc nasc nasc nasc nasc nasc nasc nasc nasc nasc nasc nasc nas\n",
      "User Question: what are the treatments for krabbe disease\n",
      "Expected Answer: there is no cure for krabbe disease results of a very small clinical trial of children with infantile krabbe disease found that children who received umbilical cord blood stem cells from unrelated donors prior to symptom onset developed with little neurological impairment bone marrow transplantation may help some people generally treatment for the disorder is symptomatic and supportive physical therapy may help maintain or increase muscle tone and circulation these resources address the diagnosis or management of krabbe disease babys first test gene review gene review krabbe disease genetic testing registry galactosylceramide betagalactosidase deficiency medlineplus encyclopedia krabbe disease these resources from medlineplus offer information about the diagnosis and management of various health conditions diagnostic tests drug therapy surgery and rehabilitation genetic counseling palliative care\n",
      "Model Answer: these resources address the diagnosis or management of krabbe disease gene review gene review krabbe disease gene review krabbe disease gene review krabbe disease gene review krabbe disease gene review krabbe disease gene review krabbe disease gene review krabbe disease gene review krabbe disease gene review krabbe disease gene review krabbe disease gene review krabbe disease gene review krabbe disease gene review krabbe disease gene review krabbe disease gene review krabbe disease gene review krabbe disease gene\n"
     ]
    }
   ],
   "source": [
    "def predict_sample(idx=0):\n",
    "    input_text = \"question: \" + test_df_sample.iloc[idx][\"question\"]\n",
    "    inputs = tokenizer(input_text, return_tensors=\"pt\", truncation=True, padding=True).to(model.device)\n",
    "    output_ids = model.generate(**inputs, max_new_tokens=128)\n",
    "    print(\"User Question:\", test_df_sample.iloc[idx][\"question\"])\n",
    "    print(\"Expected Answer:\", test_df_sample.iloc[idx][\"answer\"])\n",
    "    print(\"Model Answer:\", tokenizer.decode(output_ids[0], skip_special_tokens=True))\n",
    "\n",
    "predict_sample(0)\n",
    "predict_sample(1)\n",
    "predict_sample(2)\n"
   ]
  },
  {
   "cell_type": "markdown",
   "metadata": {},
   "source": [
    "## Testing saved model"
   ]
  },
  {
   "cell_type": "code",
   "execution_count": 2,
   "metadata": {
    "id": "Y6CpHo3tOLVW"
   },
   "outputs": [
    {
     "name": "stderr",
     "output_type": "stream",
     "text": [
      "/Users/jayeshzambre/anaconda3/envs/medrag/lib/python3.10/site-packages/tqdm/auto.py:21: TqdmWarning: IProgress not found. Please update jupyter and ipywidgets. See https://ipywidgets.readthedocs.io/en/stable/user_install.html\n",
      "  from .autonotebook import tqdm as notebook_tqdm\n",
      "/Users/jayeshzambre/anaconda3/envs/medrag/lib/python3.10/site-packages/transformers/utils/generic.py:441: FutureWarning: `torch.utils._pytree._register_pytree_node` is deprecated. Please use `torch.utils._pytree.register_pytree_node` instead.\n",
      "  _torch_pytree._register_pytree_node(\n",
      "/Users/jayeshzambre/anaconda3/envs/medrag/lib/python3.10/site-packages/transformers/utils/generic.py:309: FutureWarning: `torch.utils._pytree._register_pytree_node` is deprecated. Please use `torch.utils._pytree.register_pytree_node` instead.\n",
      "  _torch_pytree._register_pytree_node(\n",
      "/Users/jayeshzambre/anaconda3/envs/medrag/lib/python3.10/site-packages/transformers/utils/generic.py:309: FutureWarning: `torch.utils._pytree._register_pytree_node` is deprecated. Please use `torch.utils._pytree.register_pytree_node` instead.\n",
      "  _torch_pytree._register_pytree_node(\n",
      "Special tokens have been added in the vocabulary, make sure the associated word embeddings are fine-tuned or trained.\n"
     ]
    }
   ],
   "source": [
    "from transformers import T5ForConditionalGeneration, T5Tokenizer\n",
    "\n",
    "# Replace with the actual path where you saved the model\n",
    "model_path = \"./flan-t5-qa-final\"\n",
    "\n",
    "tokenizer = T5Tokenizer.from_pretrained(model_path)\n",
    "model = T5ForConditionalGeneration.from_pretrained(model_path)\n"
   ]
  },
  {
   "cell_type": "code",
   "execution_count": 7,
   "metadata": {},
   "outputs": [
    {
     "name": "stdout",
     "output_type": "stream",
     "text": [
      "User Question: what are the genetic changes related to pyridoxinedependent epilepsy\n",
      "Expected Answer: mutations in the aldh7a1 gene cause pyridoxinedependent epilepsy the aldh7a1 gene provides instructions for making an enzyme called aminoadipic semialdehyde aasa dehydrogenase also known as antiquitin this enzyme is involved in the breakdown of the protein building block amino acid lysine in the brain when antiquitin is deficient a molecule that interferes with vitamin b6 function builds up in various tissues pyridoxine plays a role in many processes in the body such as the breakdown of amino acids and the productions of chemicals that transmit signals in the brain neurotransmitters it is unclear how a lack of pyridoxine causes the seizures that are characteristic of this condition some individuals with pyridoxinedependent epilepsy do not have identified mutations in the aldh7a1 gene in these cases the cause of the condition is unknown\n",
      "Model Answer: pyridoxine\n",
      "User Question: what are the treatments for acute promyelocytic leukemia\n",
      "Expected Answer: these resources address the diagnosis or management of acute promyelocytic leukemia american cancer society diagnosis of acute myeloid leukemia american cancer society treatment of acute promyelocytic m3 leukemia genetic testing registry acute promyelocytic leukemia medlineplus encyclopedia acute myeloid leukemia national cancer institute adult acute myeloid leukemia treatment national cancer institute leukemia national heart lung and blood institute bone marrow tests these resources from medlineplus offer information about the diagnosis and management of various health conditions diagnostic tests drug therapy surgery and rehabilitation genetic counseling palliative care\n",
      "Model Answer: a syphilis\n",
      "User Question: how many people are affected by renal hypouricemia\n",
      "Expected Answer: the prevalence of renal hypouricemia is unknown at least 150 affected individuals have been described in the scientific literature this condition is thought to be most prevalent in asian countries such as japan and south korea although affected individuals have been found in europe renal hypouricemia is likely underdiagnosed because it does not cause any symptoms in many affected individuals\n",
      "Model Answer: 1.2 million\n"
     ]
    }
   ],
   "source": [
    "def predict_sample(idx=0):\n",
    "    input_text = \"question: \" + train_df_sample.iloc[idx][\"question\"]\n",
    "    inputs = tokenizer(input_text, return_tensors=\"pt\", truncation=True, padding=True).to(model.device)\n",
    "    output_ids = model.generate(**inputs, max_new_tokens=128)\n",
    "    print(\"User Question:\", train_df_sample.iloc[idx][\"question\"])\n",
    "    print(\"Expected Answer:\", train_df_sample.iloc[idx][\"answer\"])\n",
    "    print(\"Model Answer:\", tokenizer.decode(output_ids[0], skip_special_tokens=True))\n",
    "\n",
    "predict_sample(6)\n",
    "predict_sample(4)\n",
    "predict_sample(5)\n"
   ]
  },
  {
   "cell_type": "code",
   "execution_count": null,
   "metadata": {},
   "outputs": [],
   "source": []
  }
 ],
 "metadata": {
  "colab": {
   "authorship_tag": "ABX9TyNh+aF8Mvs+PQrZ0w7sjhMB",
   "provenance": []
  },
  "kernelspec": {
   "display_name": "medrag",
   "language": "python",
   "name": "python3"
  },
  "language_info": {
   "codemirror_mode": {
    "name": "ipython",
    "version": 3
   },
   "file_extension": ".py",
   "mimetype": "text/x-python",
   "name": "python",
   "nbconvert_exporter": "python",
   "pygments_lexer": "ipython3",
   "version": "3.10.17"
  },
  "widgets": {
   "application/vnd.jupyter.widget-state+json": {
    "280dd4663b6041dbb1a7f7a1f834b5ba": {
     "model_module": "@jupyter-widgets/controls",
     "model_module_version": "1.5.0",
     "model_name": "HTMLModel",
     "state": {
      "_dom_classes": [],
      "_model_module": "@jupyter-widgets/controls",
      "_model_module_version": "1.5.0",
      "_model_name": "HTMLModel",
      "_view_count": null,
      "_view_module": "@jupyter-widgets/controls",
      "_view_module_version": "1.5.0",
      "_view_name": "HTMLView",
      "description": "",
      "description_tooltip": null,
      "layout": "IPY_MODEL_406b130ea7224267a389d558a7ebcba7",
      "placeholder": "​",
      "style": "IPY_MODEL_8939170b9ee247fc89b4132d3b0ea2ba",
      "value": " 100/100 [00:00&lt;00:00, 346.07 examples/s]"
     }
    },
    "406b130ea7224267a389d558a7ebcba7": {
     "model_module": "@jupyter-widgets/base",
     "model_module_version": "1.2.0",
     "model_name": "LayoutModel",
     "state": {
      "_model_module": "@jupyter-widgets/base",
      "_model_module_version": "1.2.0",
      "_model_name": "LayoutModel",
      "_view_count": null,
      "_view_module": "@jupyter-widgets/base",
      "_view_module_version": "1.2.0",
      "_view_name": "LayoutView",
      "align_content": null,
      "align_items": null,
      "align_self": null,
      "border": null,
      "bottom": null,
      "display": null,
      "flex": null,
      "flex_flow": null,
      "grid_area": null,
      "grid_auto_columns": null,
      "grid_auto_flow": null,
      "grid_auto_rows": null,
      "grid_column": null,
      "grid_gap": null,
      "grid_row": null,
      "grid_template_areas": null,
      "grid_template_columns": null,
      "grid_template_rows": null,
      "height": null,
      "justify_content": null,
      "justify_items": null,
      "left": null,
      "margin": null,
      "max_height": null,
      "max_width": null,
      "min_height": null,
      "min_width": null,
      "object_fit": null,
      "object_position": null,
      "order": null,
      "overflow": null,
      "overflow_x": null,
      "overflow_y": null,
      "padding": null,
      "right": null,
      "top": null,
      "visibility": null,
      "width": null
     }
    },
    "4a8844ff87c144cd8a73d06e2a19c533": {
     "model_module": "@jupyter-widgets/controls",
     "model_module_version": "1.5.0",
     "model_name": "HTMLModel",
     "state": {
      "_dom_classes": [],
      "_model_module": "@jupyter-widgets/controls",
      "_model_module_version": "1.5.0",
      "_model_name": "HTMLModel",
      "_view_count": null,
      "_view_module": "@jupyter-widgets/controls",
      "_view_module_version": "1.5.0",
      "_view_name": "HTMLView",
      "description": "",
      "description_tooltip": null,
      "layout": "IPY_MODEL_a9e651ea61b64c9bb1c7283822f4b4e8",
      "placeholder": "​",
      "style": "IPY_MODEL_cef229a9f0164d0cad23c1fe1e5905ae",
      "value": "Map: 100%"
     }
    },
    "4edb1e9c0f824f3d84bc2110501c46e2": {
     "model_module": "@jupyter-widgets/controls",
     "model_module_version": "1.5.0",
     "model_name": "DescriptionStyleModel",
     "state": {
      "_model_module": "@jupyter-widgets/controls",
      "_model_module_version": "1.5.0",
      "_model_name": "DescriptionStyleModel",
      "_view_count": null,
      "_view_module": "@jupyter-widgets/base",
      "_view_module_version": "1.2.0",
      "_view_name": "StyleView",
      "description_width": ""
     }
    },
    "50e1910d5a97455a83a0ad962d56b705": {
     "model_module": "@jupyter-widgets/base",
     "model_module_version": "1.2.0",
     "model_name": "LayoutModel",
     "state": {
      "_model_module": "@jupyter-widgets/base",
      "_model_module_version": "1.2.0",
      "_model_name": "LayoutModel",
      "_view_count": null,
      "_view_module": "@jupyter-widgets/base",
      "_view_module_version": "1.2.0",
      "_view_name": "LayoutView",
      "align_content": null,
      "align_items": null,
      "align_self": null,
      "border": null,
      "bottom": null,
      "display": null,
      "flex": null,
      "flex_flow": null,
      "grid_area": null,
      "grid_auto_columns": null,
      "grid_auto_flow": null,
      "grid_auto_rows": null,
      "grid_column": null,
      "grid_gap": null,
      "grid_row": null,
      "grid_template_areas": null,
      "grid_template_columns": null,
      "grid_template_rows": null,
      "height": null,
      "justify_content": null,
      "justify_items": null,
      "left": null,
      "margin": null,
      "max_height": null,
      "max_width": null,
      "min_height": null,
      "min_width": null,
      "object_fit": null,
      "object_position": null,
      "order": null,
      "overflow": null,
      "overflow_x": null,
      "overflow_y": null,
      "padding": null,
      "right": null,
      "top": null,
      "visibility": null,
      "width": null
     }
    },
    "56ee5c552a4a4c079d7c9c37634ae8db": {
     "model_module": "@jupyter-widgets/controls",
     "model_module_version": "1.5.0",
     "model_name": "FloatProgressModel",
     "state": {
      "_dom_classes": [],
      "_model_module": "@jupyter-widgets/controls",
      "_model_module_version": "1.5.0",
      "_model_name": "FloatProgressModel",
      "_view_count": null,
      "_view_module": "@jupyter-widgets/controls",
      "_view_module_version": "1.5.0",
      "_view_name": "ProgressView",
      "bar_style": "success",
      "description": "",
      "description_tooltip": null,
      "layout": "IPY_MODEL_74bc950fde744c129d08f8c163d40185",
      "max": 100,
      "min": 0,
      "orientation": "horizontal",
      "style": "IPY_MODEL_a44dcec6ace74327853f57ffd9abc8a7",
      "value": 100
     }
    },
    "59969815ab6648888355c336647a2c97": {
     "model_module": "@jupyter-widgets/base",
     "model_module_version": "1.2.0",
     "model_name": "LayoutModel",
     "state": {
      "_model_module": "@jupyter-widgets/base",
      "_model_module_version": "1.2.0",
      "_model_name": "LayoutModel",
      "_view_count": null,
      "_view_module": "@jupyter-widgets/base",
      "_view_module_version": "1.2.0",
      "_view_name": "LayoutView",
      "align_content": null,
      "align_items": null,
      "align_self": null,
      "border": null,
      "bottom": null,
      "display": null,
      "flex": null,
      "flex_flow": null,
      "grid_area": null,
      "grid_auto_columns": null,
      "grid_auto_flow": null,
      "grid_auto_rows": null,
      "grid_column": null,
      "grid_gap": null,
      "grid_row": null,
      "grid_template_areas": null,
      "grid_template_columns": null,
      "grid_template_rows": null,
      "height": null,
      "justify_content": null,
      "justify_items": null,
      "left": null,
      "margin": null,
      "max_height": null,
      "max_width": null,
      "min_height": null,
      "min_width": null,
      "object_fit": null,
      "object_position": null,
      "order": null,
      "overflow": null,
      "overflow_x": null,
      "overflow_y": null,
      "padding": null,
      "right": null,
      "top": null,
      "visibility": null,
      "width": null
     }
    },
    "5e1f5d0cf6064033bc42276b93b087d9": {
     "model_module": "@jupyter-widgets/controls",
     "model_module_version": "1.5.0",
     "model_name": "FloatProgressModel",
     "state": {
      "_dom_classes": [],
      "_model_module": "@jupyter-widgets/controls",
      "_model_module_version": "1.5.0",
      "_model_name": "FloatProgressModel",
      "_view_count": null,
      "_view_module": "@jupyter-widgets/controls",
      "_view_module_version": "1.5.0",
      "_view_name": "ProgressView",
      "bar_style": "success",
      "description": "",
      "description_tooltip": null,
      "layout": "IPY_MODEL_ac973818677b422dbb3a3ec909dc51c2",
      "max": 500,
      "min": 0,
      "orientation": "horizontal",
      "style": "IPY_MODEL_b262c31ecd17454eb763ed3f3bdecb5e",
      "value": 500
     }
    },
    "709f7be3d05447678db7242d08569518": {
     "model_module": "@jupyter-widgets/base",
     "model_module_version": "1.2.0",
     "model_name": "LayoutModel",
     "state": {
      "_model_module": "@jupyter-widgets/base",
      "_model_module_version": "1.2.0",
      "_model_name": "LayoutModel",
      "_view_count": null,
      "_view_module": "@jupyter-widgets/base",
      "_view_module_version": "1.2.0",
      "_view_name": "LayoutView",
      "align_content": null,
      "align_items": null,
      "align_self": null,
      "border": null,
      "bottom": null,
      "display": null,
      "flex": null,
      "flex_flow": null,
      "grid_area": null,
      "grid_auto_columns": null,
      "grid_auto_flow": null,
      "grid_auto_rows": null,
      "grid_column": null,
      "grid_gap": null,
      "grid_row": null,
      "grid_template_areas": null,
      "grid_template_columns": null,
      "grid_template_rows": null,
      "height": null,
      "justify_content": null,
      "justify_items": null,
      "left": null,
      "margin": null,
      "max_height": null,
      "max_width": null,
      "min_height": null,
      "min_width": null,
      "object_fit": null,
      "object_position": null,
      "order": null,
      "overflow": null,
      "overflow_x": null,
      "overflow_y": null,
      "padding": null,
      "right": null,
      "top": null,
      "visibility": null,
      "width": null
     }
    },
    "74bc950fde744c129d08f8c163d40185": {
     "model_module": "@jupyter-widgets/base",
     "model_module_version": "1.2.0",
     "model_name": "LayoutModel",
     "state": {
      "_model_module": "@jupyter-widgets/base",
      "_model_module_version": "1.2.0",
      "_model_name": "LayoutModel",
      "_view_count": null,
      "_view_module": "@jupyter-widgets/base",
      "_view_module_version": "1.2.0",
      "_view_name": "LayoutView",
      "align_content": null,
      "align_items": null,
      "align_self": null,
      "border": null,
      "bottom": null,
      "display": null,
      "flex": null,
      "flex_flow": null,
      "grid_area": null,
      "grid_auto_columns": null,
      "grid_auto_flow": null,
      "grid_auto_rows": null,
      "grid_column": null,
      "grid_gap": null,
      "grid_row": null,
      "grid_template_areas": null,
      "grid_template_columns": null,
      "grid_template_rows": null,
      "height": null,
      "justify_content": null,
      "justify_items": null,
      "left": null,
      "margin": null,
      "max_height": null,
      "max_width": null,
      "min_height": null,
      "min_width": null,
      "object_fit": null,
      "object_position": null,
      "order": null,
      "overflow": null,
      "overflow_x": null,
      "overflow_y": null,
      "padding": null,
      "right": null,
      "top": null,
      "visibility": null,
      "width": null
     }
    },
    "7e770c6185a64b30b3c945950ad9af60": {
     "model_module": "@jupyter-widgets/controls",
     "model_module_version": "1.5.0",
     "model_name": "FloatProgressModel",
     "state": {
      "_dom_classes": [],
      "_model_module": "@jupyter-widgets/controls",
      "_model_module_version": "1.5.0",
      "_model_name": "FloatProgressModel",
      "_view_count": null,
      "_view_module": "@jupyter-widgets/controls",
      "_view_module_version": "1.5.0",
      "_view_name": "ProgressView",
      "bar_style": "success",
      "description": "",
      "description_tooltip": null,
      "layout": "IPY_MODEL_a04759c3aad14bd2b306099df30e90de",
      "max": 100,
      "min": 0,
      "orientation": "horizontal",
      "style": "IPY_MODEL_c95b7f066c2f47fd83b44b8964d0d8b6",
      "value": 100
     }
    },
    "84618e743d7a4305881568143861f11e": {
     "model_module": "@jupyter-widgets/controls",
     "model_module_version": "1.5.0",
     "model_name": "HTMLModel",
     "state": {
      "_dom_classes": [],
      "_model_module": "@jupyter-widgets/controls",
      "_model_module_version": "1.5.0",
      "_model_name": "HTMLModel",
      "_view_count": null,
      "_view_module": "@jupyter-widgets/controls",
      "_view_module_version": "1.5.0",
      "_view_name": "HTMLView",
      "description": "",
      "description_tooltip": null,
      "layout": "IPY_MODEL_98648f6c47a140f5aa53e458d1e6b8b9",
      "placeholder": "​",
      "style": "IPY_MODEL_d4a6285e84f34e1cbd2631952906fb3a",
      "value": "Map: 100%"
     }
    },
    "84ecd9bfb7ff4bfe8c5dc37dae89a9bb": {
     "model_module": "@jupyter-widgets/controls",
     "model_module_version": "1.5.0",
     "model_name": "HTMLModel",
     "state": {
      "_dom_classes": [],
      "_model_module": "@jupyter-widgets/controls",
      "_model_module_version": "1.5.0",
      "_model_name": "HTMLModel",
      "_view_count": null,
      "_view_module": "@jupyter-widgets/controls",
      "_view_module_version": "1.5.0",
      "_view_name": "HTMLView",
      "description": "",
      "description_tooltip": null,
      "layout": "IPY_MODEL_59969815ab6648888355c336647a2c97",
      "placeholder": "​",
      "style": "IPY_MODEL_f0e67155b79e49dca04b57aaf27d2764",
      "value": "Map: 100%"
     }
    },
    "8939170b9ee247fc89b4132d3b0ea2ba": {
     "model_module": "@jupyter-widgets/controls",
     "model_module_version": "1.5.0",
     "model_name": "DescriptionStyleModel",
     "state": {
      "_model_module": "@jupyter-widgets/controls",
      "_model_module_version": "1.5.0",
      "_model_name": "DescriptionStyleModel",
      "_view_count": null,
      "_view_module": "@jupyter-widgets/base",
      "_view_module_version": "1.2.0",
      "_view_name": "StyleView",
      "description_width": ""
     }
    },
    "8fd14bcdacc74cd9ba6f5d8e1d9fbb33": {
     "model_module": "@jupyter-widgets/base",
     "model_module_version": "1.2.0",
     "model_name": "LayoutModel",
     "state": {
      "_model_module": "@jupyter-widgets/base",
      "_model_module_version": "1.2.0",
      "_model_name": "LayoutModel",
      "_view_count": null,
      "_view_module": "@jupyter-widgets/base",
      "_view_module_version": "1.2.0",
      "_view_name": "LayoutView",
      "align_content": null,
      "align_items": null,
      "align_self": null,
      "border": null,
      "bottom": null,
      "display": null,
      "flex": null,
      "flex_flow": null,
      "grid_area": null,
      "grid_auto_columns": null,
      "grid_auto_flow": null,
      "grid_auto_rows": null,
      "grid_column": null,
      "grid_gap": null,
      "grid_row": null,
      "grid_template_areas": null,
      "grid_template_columns": null,
      "grid_template_rows": null,
      "height": null,
      "justify_content": null,
      "justify_items": null,
      "left": null,
      "margin": null,
      "max_height": null,
      "max_width": null,
      "min_height": null,
      "min_width": null,
      "object_fit": null,
      "object_position": null,
      "order": null,
      "overflow": null,
      "overflow_x": null,
      "overflow_y": null,
      "padding": null,
      "right": null,
      "top": null,
      "visibility": null,
      "width": null
     }
    },
    "96f4b7dcd0d64945baafbdf379a5d558": {
     "model_module": "@jupyter-widgets/controls",
     "model_module_version": "1.5.0",
     "model_name": "DescriptionStyleModel",
     "state": {
      "_model_module": "@jupyter-widgets/controls",
      "_model_module_version": "1.5.0",
      "_model_name": "DescriptionStyleModel",
      "_view_count": null,
      "_view_module": "@jupyter-widgets/base",
      "_view_module_version": "1.2.0",
      "_view_name": "StyleView",
      "description_width": ""
     }
    },
    "98648f6c47a140f5aa53e458d1e6b8b9": {
     "model_module": "@jupyter-widgets/base",
     "model_module_version": "1.2.0",
     "model_name": "LayoutModel",
     "state": {
      "_model_module": "@jupyter-widgets/base",
      "_model_module_version": "1.2.0",
      "_model_name": "LayoutModel",
      "_view_count": null,
      "_view_module": "@jupyter-widgets/base",
      "_view_module_version": "1.2.0",
      "_view_name": "LayoutView",
      "align_content": null,
      "align_items": null,
      "align_self": null,
      "border": null,
      "bottom": null,
      "display": null,
      "flex": null,
      "flex_flow": null,
      "grid_area": null,
      "grid_auto_columns": null,
      "grid_auto_flow": null,
      "grid_auto_rows": null,
      "grid_column": null,
      "grid_gap": null,
      "grid_row": null,
      "grid_template_areas": null,
      "grid_template_columns": null,
      "grid_template_rows": null,
      "height": null,
      "justify_content": null,
      "justify_items": null,
      "left": null,
      "margin": null,
      "max_height": null,
      "max_width": null,
      "min_height": null,
      "min_width": null,
      "object_fit": null,
      "object_position": null,
      "order": null,
      "overflow": null,
      "overflow_x": null,
      "overflow_y": null,
      "padding": null,
      "right": null,
      "top": null,
      "visibility": null,
      "width": null
     }
    },
    "a0170661b1d5436087c5816523a868b4": {
     "model_module": "@jupyter-widgets/base",
     "model_module_version": "1.2.0",
     "model_name": "LayoutModel",
     "state": {
      "_model_module": "@jupyter-widgets/base",
      "_model_module_version": "1.2.0",
      "_model_name": "LayoutModel",
      "_view_count": null,
      "_view_module": "@jupyter-widgets/base",
      "_view_module_version": "1.2.0",
      "_view_name": "LayoutView",
      "align_content": null,
      "align_items": null,
      "align_self": null,
      "border": null,
      "bottom": null,
      "display": null,
      "flex": null,
      "flex_flow": null,
      "grid_area": null,
      "grid_auto_columns": null,
      "grid_auto_flow": null,
      "grid_auto_rows": null,
      "grid_column": null,
      "grid_gap": null,
      "grid_row": null,
      "grid_template_areas": null,
      "grid_template_columns": null,
      "grid_template_rows": null,
      "height": null,
      "justify_content": null,
      "justify_items": null,
      "left": null,
      "margin": null,
      "max_height": null,
      "max_width": null,
      "min_height": null,
      "min_width": null,
      "object_fit": null,
      "object_position": null,
      "order": null,
      "overflow": null,
      "overflow_x": null,
      "overflow_y": null,
      "padding": null,
      "right": null,
      "top": null,
      "visibility": null,
      "width": null
     }
    },
    "a04759c3aad14bd2b306099df30e90de": {
     "model_module": "@jupyter-widgets/base",
     "model_module_version": "1.2.0",
     "model_name": "LayoutModel",
     "state": {
      "_model_module": "@jupyter-widgets/base",
      "_model_module_version": "1.2.0",
      "_model_name": "LayoutModel",
      "_view_count": null,
      "_view_module": "@jupyter-widgets/base",
      "_view_module_version": "1.2.0",
      "_view_name": "LayoutView",
      "align_content": null,
      "align_items": null,
      "align_self": null,
      "border": null,
      "bottom": null,
      "display": null,
      "flex": null,
      "flex_flow": null,
      "grid_area": null,
      "grid_auto_columns": null,
      "grid_auto_flow": null,
      "grid_auto_rows": null,
      "grid_column": null,
      "grid_gap": null,
      "grid_row": null,
      "grid_template_areas": null,
      "grid_template_columns": null,
      "grid_template_rows": null,
      "height": null,
      "justify_content": null,
      "justify_items": null,
      "left": null,
      "margin": null,
      "max_height": null,
      "max_width": null,
      "min_height": null,
      "min_width": null,
      "object_fit": null,
      "object_position": null,
      "order": null,
      "overflow": null,
      "overflow_x": null,
      "overflow_y": null,
      "padding": null,
      "right": null,
      "top": null,
      "visibility": null,
      "width": null
     }
    },
    "a44dcec6ace74327853f57ffd9abc8a7": {
     "model_module": "@jupyter-widgets/controls",
     "model_module_version": "1.5.0",
     "model_name": "ProgressStyleModel",
     "state": {
      "_model_module": "@jupyter-widgets/controls",
      "_model_module_version": "1.5.0",
      "_model_name": "ProgressStyleModel",
      "_view_count": null,
      "_view_module": "@jupyter-widgets/base",
      "_view_module_version": "1.2.0",
      "_view_name": "StyleView",
      "bar_color": null,
      "description_width": ""
     }
    },
    "a9e651ea61b64c9bb1c7283822f4b4e8": {
     "model_module": "@jupyter-widgets/base",
     "model_module_version": "1.2.0",
     "model_name": "LayoutModel",
     "state": {
      "_model_module": "@jupyter-widgets/base",
      "_model_module_version": "1.2.0",
      "_model_name": "LayoutModel",
      "_view_count": null,
      "_view_module": "@jupyter-widgets/base",
      "_view_module_version": "1.2.0",
      "_view_name": "LayoutView",
      "align_content": null,
      "align_items": null,
      "align_self": null,
      "border": null,
      "bottom": null,
      "display": null,
      "flex": null,
      "flex_flow": null,
      "grid_area": null,
      "grid_auto_columns": null,
      "grid_auto_flow": null,
      "grid_auto_rows": null,
      "grid_column": null,
      "grid_gap": null,
      "grid_row": null,
      "grid_template_areas": null,
      "grid_template_columns": null,
      "grid_template_rows": null,
      "height": null,
      "justify_content": null,
      "justify_items": null,
      "left": null,
      "margin": null,
      "max_height": null,
      "max_width": null,
      "min_height": null,
      "min_width": null,
      "object_fit": null,
      "object_position": null,
      "order": null,
      "overflow": null,
      "overflow_x": null,
      "overflow_y": null,
      "padding": null,
      "right": null,
      "top": null,
      "visibility": null,
      "width": null
     }
    },
    "ac973818677b422dbb3a3ec909dc51c2": {
     "model_module": "@jupyter-widgets/base",
     "model_module_version": "1.2.0",
     "model_name": "LayoutModel",
     "state": {
      "_model_module": "@jupyter-widgets/base",
      "_model_module_version": "1.2.0",
      "_model_name": "LayoutModel",
      "_view_count": null,
      "_view_module": "@jupyter-widgets/base",
      "_view_module_version": "1.2.0",
      "_view_name": "LayoutView",
      "align_content": null,
      "align_items": null,
      "align_self": null,
      "border": null,
      "bottom": null,
      "display": null,
      "flex": null,
      "flex_flow": null,
      "grid_area": null,
      "grid_auto_columns": null,
      "grid_auto_flow": null,
      "grid_auto_rows": null,
      "grid_column": null,
      "grid_gap": null,
      "grid_row": null,
      "grid_template_areas": null,
      "grid_template_columns": null,
      "grid_template_rows": null,
      "height": null,
      "justify_content": null,
      "justify_items": null,
      "left": null,
      "margin": null,
      "max_height": null,
      "max_width": null,
      "min_height": null,
      "min_width": null,
      "object_fit": null,
      "object_position": null,
      "order": null,
      "overflow": null,
      "overflow_x": null,
      "overflow_y": null,
      "padding": null,
      "right": null,
      "top": null,
      "visibility": null,
      "width": null
     }
    },
    "b262c31ecd17454eb763ed3f3bdecb5e": {
     "model_module": "@jupyter-widgets/controls",
     "model_module_version": "1.5.0",
     "model_name": "ProgressStyleModel",
     "state": {
      "_model_module": "@jupyter-widgets/controls",
      "_model_module_version": "1.5.0",
      "_model_name": "ProgressStyleModel",
      "_view_count": null,
      "_view_module": "@jupyter-widgets/base",
      "_view_module_version": "1.2.0",
      "_view_name": "StyleView",
      "bar_color": null,
      "description_width": ""
     }
    },
    "b91b563cdccc43da93aca3e5c1f0fd75": {
     "model_module": "@jupyter-widgets/controls",
     "model_module_version": "1.5.0",
     "model_name": "HBoxModel",
     "state": {
      "_dom_classes": [],
      "_model_module": "@jupyter-widgets/controls",
      "_model_module_version": "1.5.0",
      "_model_name": "HBoxModel",
      "_view_count": null,
      "_view_module": "@jupyter-widgets/controls",
      "_view_module_version": "1.5.0",
      "_view_name": "HBoxView",
      "box_style": "",
      "children": [
       "IPY_MODEL_84ecd9bfb7ff4bfe8c5dc37dae89a9bb",
       "IPY_MODEL_56ee5c552a4a4c079d7c9c37634ae8db",
       "IPY_MODEL_280dd4663b6041dbb1a7f7a1f834b5ba"
      ],
      "layout": "IPY_MODEL_cfdb8bd922724ba5a23eb5d96386c333"
     }
    },
    "beb1896db40c4b4d9d3b3b531e8f1b84": {
     "model_module": "@jupyter-widgets/controls",
     "model_module_version": "1.5.0",
     "model_name": "HBoxModel",
     "state": {
      "_dom_classes": [],
      "_model_module": "@jupyter-widgets/controls",
      "_model_module_version": "1.5.0",
      "_model_name": "HBoxModel",
      "_view_count": null,
      "_view_module": "@jupyter-widgets/controls",
      "_view_module_version": "1.5.0",
      "_view_name": "HBoxView",
      "box_style": "",
      "children": [
       "IPY_MODEL_4a8844ff87c144cd8a73d06e2a19c533",
       "IPY_MODEL_7e770c6185a64b30b3c945950ad9af60",
       "IPY_MODEL_ee79614ab6564e8e9a8da14486cfa74c"
      ],
      "layout": "IPY_MODEL_8fd14bcdacc74cd9ba6f5d8e1d9fbb33"
     }
    },
    "c95b7f066c2f47fd83b44b8964d0d8b6": {
     "model_module": "@jupyter-widgets/controls",
     "model_module_version": "1.5.0",
     "model_name": "ProgressStyleModel",
     "state": {
      "_model_module": "@jupyter-widgets/controls",
      "_model_module_version": "1.5.0",
      "_model_name": "ProgressStyleModel",
      "_view_count": null,
      "_view_module": "@jupyter-widgets/base",
      "_view_module_version": "1.2.0",
      "_view_name": "StyleView",
      "bar_color": null,
      "description_width": ""
     }
    },
    "cdd28cb8c6014dfcab45e1adfbcd019f": {
     "model_module": "@jupyter-widgets/controls",
     "model_module_version": "1.5.0",
     "model_name": "HTMLModel",
     "state": {
      "_dom_classes": [],
      "_model_module": "@jupyter-widgets/controls",
      "_model_module_version": "1.5.0",
      "_model_name": "HTMLModel",
      "_view_count": null,
      "_view_module": "@jupyter-widgets/controls",
      "_view_module_version": "1.5.0",
      "_view_name": "HTMLView",
      "description": "",
      "description_tooltip": null,
      "layout": "IPY_MODEL_a0170661b1d5436087c5816523a868b4",
      "placeholder": "​",
      "style": "IPY_MODEL_4edb1e9c0f824f3d84bc2110501c46e2",
      "value": " 500/500 [00:01&lt;00:00, 425.08 examples/s]"
     }
    },
    "cef229a9f0164d0cad23c1fe1e5905ae": {
     "model_module": "@jupyter-widgets/controls",
     "model_module_version": "1.5.0",
     "model_name": "DescriptionStyleModel",
     "state": {
      "_model_module": "@jupyter-widgets/controls",
      "_model_module_version": "1.5.0",
      "_model_name": "DescriptionStyleModel",
      "_view_count": null,
      "_view_module": "@jupyter-widgets/base",
      "_view_module_version": "1.2.0",
      "_view_name": "StyleView",
      "description_width": ""
     }
    },
    "cfdb8bd922724ba5a23eb5d96386c333": {
     "model_module": "@jupyter-widgets/base",
     "model_module_version": "1.2.0",
     "model_name": "LayoutModel",
     "state": {
      "_model_module": "@jupyter-widgets/base",
      "_model_module_version": "1.2.0",
      "_model_name": "LayoutModel",
      "_view_count": null,
      "_view_module": "@jupyter-widgets/base",
      "_view_module_version": "1.2.0",
      "_view_name": "LayoutView",
      "align_content": null,
      "align_items": null,
      "align_self": null,
      "border": null,
      "bottom": null,
      "display": null,
      "flex": null,
      "flex_flow": null,
      "grid_area": null,
      "grid_auto_columns": null,
      "grid_auto_flow": null,
      "grid_auto_rows": null,
      "grid_column": null,
      "grid_gap": null,
      "grid_row": null,
      "grid_template_areas": null,
      "grid_template_columns": null,
      "grid_template_rows": null,
      "height": null,
      "justify_content": null,
      "justify_items": null,
      "left": null,
      "margin": null,
      "max_height": null,
      "max_width": null,
      "min_height": null,
      "min_width": null,
      "object_fit": null,
      "object_position": null,
      "order": null,
      "overflow": null,
      "overflow_x": null,
      "overflow_y": null,
      "padding": null,
      "right": null,
      "top": null,
      "visibility": null,
      "width": null
     }
    },
    "d4a6285e84f34e1cbd2631952906fb3a": {
     "model_module": "@jupyter-widgets/controls",
     "model_module_version": "1.5.0",
     "model_name": "DescriptionStyleModel",
     "state": {
      "_model_module": "@jupyter-widgets/controls",
      "_model_module_version": "1.5.0",
      "_model_name": "DescriptionStyleModel",
      "_view_count": null,
      "_view_module": "@jupyter-widgets/base",
      "_view_module_version": "1.2.0",
      "_view_name": "StyleView",
      "description_width": ""
     }
    },
    "ee79614ab6564e8e9a8da14486cfa74c": {
     "model_module": "@jupyter-widgets/controls",
     "model_module_version": "1.5.0",
     "model_name": "HTMLModel",
     "state": {
      "_dom_classes": [],
      "_model_module": "@jupyter-widgets/controls",
      "_model_module_version": "1.5.0",
      "_model_name": "HTMLModel",
      "_view_count": null,
      "_view_module": "@jupyter-widgets/controls",
      "_view_module_version": "1.5.0",
      "_view_name": "HTMLView",
      "description": "",
      "description_tooltip": null,
      "layout": "IPY_MODEL_50e1910d5a97455a83a0ad962d56b705",
      "placeholder": "​",
      "style": "IPY_MODEL_96f4b7dcd0d64945baafbdf379a5d558",
      "value": " 100/100 [00:00&lt;00:00, 430.20 examples/s]"
     }
    },
    "f0e67155b79e49dca04b57aaf27d2764": {
     "model_module": "@jupyter-widgets/controls",
     "model_module_version": "1.5.0",
     "model_name": "DescriptionStyleModel",
     "state": {
      "_model_module": "@jupyter-widgets/controls",
      "_model_module_version": "1.5.0",
      "_model_name": "DescriptionStyleModel",
      "_view_count": null,
      "_view_module": "@jupyter-widgets/base",
      "_view_module_version": "1.2.0",
      "_view_name": "StyleView",
      "description_width": ""
     }
    },
    "f408e8c431e94295b1404925e765f4e3": {
     "model_module": "@jupyter-widgets/controls",
     "model_module_version": "1.5.0",
     "model_name": "HBoxModel",
     "state": {
      "_dom_classes": [],
      "_model_module": "@jupyter-widgets/controls",
      "_model_module_version": "1.5.0",
      "_model_name": "HBoxModel",
      "_view_count": null,
      "_view_module": "@jupyter-widgets/controls",
      "_view_module_version": "1.5.0",
      "_view_name": "HBoxView",
      "box_style": "",
      "children": [
       "IPY_MODEL_84618e743d7a4305881568143861f11e",
       "IPY_MODEL_5e1f5d0cf6064033bc42276b93b087d9",
       "IPY_MODEL_cdd28cb8c6014dfcab45e1adfbcd019f"
      ],
      "layout": "IPY_MODEL_709f7be3d05447678db7242d08569518"
     }
    }
   }
  }
 },
 "nbformat": 4,
 "nbformat_minor": 0
}
